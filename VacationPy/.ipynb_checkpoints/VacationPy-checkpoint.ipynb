{
 "cells": [
  {
   "cell_type": "markdown",
   "metadata": {},
   "source": [
    "# VacationPy\n",
    "----\n",
    "\n",
    "#### Note\n",
    "* Keep an eye on your API usage. Use https://developers.google.com/maps/reporting/gmp-reporting as reference for how to monitor your usage and billing.\n",
    "\n",
    "* Instructions have been included for each segment. You do not have to follow them exactly, but they are included to help you think through the steps."
   ]
  },
  {
   "cell_type": "code",
   "execution_count": 1,
   "metadata": {},
   "outputs": [],
   "source": [
    "# Dependencies and Setup\n",
    "import matplotlib.pyplot as plt\n",
    "import pandas as pd\n",
    "import numpy as np\n",
    "import requests\n",
    "import gmaps\n",
    "import os\n",
    "import json\n",
    "\n",
    "# Import API key\n",
    "from api_keys import g_key"
   ]
  },
  {
   "cell_type": "markdown",
   "metadata": {},
   "source": [
    "### Store Part I results into DataFrame\n",
    "* Load the csv exported in Part I to a DataFrame"
   ]
  },
  {
   "cell_type": "code",
   "execution_count": 2,
   "metadata": {},
   "outputs": [
    {
     "data": {
      "text/html": [
       "<div>\n",
       "<style scoped>\n",
       "    .dataframe tbody tr th:only-of-type {\n",
       "        vertical-align: middle;\n",
       "    }\n",
       "\n",
       "    .dataframe tbody tr th {\n",
       "        vertical-align: top;\n",
       "    }\n",
       "\n",
       "    .dataframe thead th {\n",
       "        text-align: right;\n",
       "    }\n",
       "</style>\n",
       "<table border=\"1\" class=\"dataframe\">\n",
       "  <thead>\n",
       "    <tr style=\"text-align: right;\">\n",
       "      <th></th>\n",
       "      <th>City ID</th>\n",
       "      <th>City</th>\n",
       "      <th>Lat</th>\n",
       "      <th>Lng</th>\n",
       "      <th>Max Temp</th>\n",
       "      <th>Humidity</th>\n",
       "      <th>Cloudiness</th>\n",
       "      <th>Wind Speed</th>\n",
       "      <th>Country</th>\n",
       "      <th>Date</th>\n",
       "    </tr>\n",
       "  </thead>\n",
       "  <tbody>\n",
       "    <tr>\n",
       "      <th>0</th>\n",
       "      <td>0</td>\n",
       "      <td>ust-nera</td>\n",
       "      <td>64.57</td>\n",
       "      <td>143.20</td>\n",
       "      <td>32.68</td>\n",
       "      <td>92</td>\n",
       "      <td>100</td>\n",
       "      <td>0.98</td>\n",
       "      <td>RU</td>\n",
       "      <td>1602687722</td>\n",
       "    </tr>\n",
       "    <tr>\n",
       "      <th>1</th>\n",
       "      <td>1</td>\n",
       "      <td>villa bruzual</td>\n",
       "      <td>9.33</td>\n",
       "      <td>-69.12</td>\n",
       "      <td>85.77</td>\n",
       "      <td>70</td>\n",
       "      <td>25</td>\n",
       "      <td>2.98</td>\n",
       "      <td>VE</td>\n",
       "      <td>1602687724</td>\n",
       "    </tr>\n",
       "    <tr>\n",
       "      <th>2</th>\n",
       "      <td>2</td>\n",
       "      <td>ilulissat</td>\n",
       "      <td>69.22</td>\n",
       "      <td>-51.10</td>\n",
       "      <td>33.80</td>\n",
       "      <td>80</td>\n",
       "      <td>75</td>\n",
       "      <td>2.24</td>\n",
       "      <td>GL</td>\n",
       "      <td>1602687700</td>\n",
       "    </tr>\n",
       "    <tr>\n",
       "      <th>3</th>\n",
       "      <td>3</td>\n",
       "      <td>marzuq</td>\n",
       "      <td>14.40</td>\n",
       "      <td>46.47</td>\n",
       "      <td>81.41</td>\n",
       "      <td>18</td>\n",
       "      <td>0</td>\n",
       "      <td>5.93</td>\n",
       "      <td>YE</td>\n",
       "      <td>1602687729</td>\n",
       "    </tr>\n",
       "    <tr>\n",
       "      <th>4</th>\n",
       "      <td>4</td>\n",
       "      <td>lagoa</td>\n",
       "      <td>39.05</td>\n",
       "      <td>-27.98</td>\n",
       "      <td>68.63</td>\n",
       "      <td>73</td>\n",
       "      <td>0</td>\n",
       "      <td>7.61</td>\n",
       "      <td>PT</td>\n",
       "      <td>1602687731</td>\n",
       "    </tr>\n",
       "  </tbody>\n",
       "</table>\n",
       "</div>"
      ],
      "text/plain": [
       "   City ID           City    Lat     Lng  Max Temp  Humidity  Cloudiness  \\\n",
       "0        0       ust-nera  64.57  143.20     32.68        92         100   \n",
       "1        1  villa bruzual   9.33  -69.12     85.77        70          25   \n",
       "2        2      ilulissat  69.22  -51.10     33.80        80          75   \n",
       "3        3         marzuq  14.40   46.47     81.41        18           0   \n",
       "4        4          lagoa  39.05  -27.98     68.63        73           0   \n",
       "\n",
       "   Wind Speed Country        Date  \n",
       "0        0.98      RU  1602687722  \n",
       "1        2.98      VE  1602687724  \n",
       "2        2.24      GL  1602687700  \n",
       "3        5.93      YE  1602687729  \n",
       "4        7.61      PT  1602687731  "
      ]
     },
     "execution_count": 2,
     "metadata": {},
     "output_type": "execute_result"
    }
   ],
   "source": [
    "cities_df = pd.read_csv(\"../output_data/cities.csv\")\n",
    "cities_df.head()"
   ]
  },
  {
   "cell_type": "markdown",
   "metadata": {},
   "source": [
    "### Humidity Heatmap\n",
    "* Configure gmaps.\n",
    "* Use the Lat and Lng as locations and Humidity as the weight.\n",
    "* Add Heatmap layer to map."
   ]
  },
  {
   "cell_type": "code",
   "execution_count": 3,
   "metadata": {},
   "outputs": [],
   "source": [
    "# Configure gmaps with API key\n",
    "gmaps.configure(api_key=g_key)"
   ]
  },
  {
   "cell_type": "code",
   "execution_count": 4,
   "metadata": {
    "scrolled": true
   },
   "outputs": [
    {
     "data": {
      "application/vnd.jupyter.widget-view+json": {
       "model_id": "338301a87d254848840596a4b23c9427",
       "version_major": 2,
       "version_minor": 0
      },
      "text/plain": [
       "Figure(layout=FigureLayout(height='420px'))"
      ]
     },
     "metadata": {},
     "output_type": "display_data"
    }
   ],
   "source": [
    "# Store 'Lat' and 'Lng' into  locations \n",
    "locations = cities_df[[\"Lat\", \"Lng\"]].astype(float)\n",
    "\n",
    "# Convert Humidity to float and store\n",
    "humidity = cities_df[\"Humidity\"].astype(float)\n",
    "\n",
    "\n",
    "fig = gmaps.figure(zoom_level=1, center=(0, 0))\n",
    "\n",
    "# Create a humidity Heatmap layer\n",
    "heat_layer = gmaps.heatmap_layer(locations, weights=humidity, \n",
    "                                 dissipating=False, max_intensity=100,\n",
    "                                 point_radius = 5)\n",
    "\n",
    "fig.add_layer(heat_layer)\n",
    "\n",
    "fig"
   ]
  },
  {
   "cell_type": "markdown",
   "metadata": {},
   "source": [
    "### Create new DataFrame fitting weather criteria\n",
    "* Narrow down the cities to fit weather conditions.\n",
    "* Drop any rows will null values."
   ]
  },
  {
   "cell_type": "code",
   "execution_count": 5,
   "metadata": {},
   "outputs": [
    {
     "data": {
      "text/html": [
       "<div>\n",
       "<style scoped>\n",
       "    .dataframe tbody tr th:only-of-type {\n",
       "        vertical-align: middle;\n",
       "    }\n",
       "\n",
       "    .dataframe tbody tr th {\n",
       "        vertical-align: top;\n",
       "    }\n",
       "\n",
       "    .dataframe thead th {\n",
       "        text-align: right;\n",
       "    }\n",
       "</style>\n",
       "<table border=\"1\" class=\"dataframe\">\n",
       "  <thead>\n",
       "    <tr style=\"text-align: right;\">\n",
       "      <th></th>\n",
       "      <th>City ID</th>\n",
       "      <th>City</th>\n",
       "      <th>Lat</th>\n",
       "      <th>Lng</th>\n",
       "      <th>Max Temp</th>\n",
       "      <th>Humidity</th>\n",
       "      <th>Cloudiness</th>\n",
       "      <th>Wind Speed</th>\n",
       "      <th>Country</th>\n",
       "      <th>Date</th>\n",
       "    </tr>\n",
       "  </thead>\n",
       "  <tbody>\n",
       "    <tr>\n",
       "      <th>60</th>\n",
       "      <td>60</td>\n",
       "      <td>tura</td>\n",
       "      <td>25.52</td>\n",
       "      <td>90.22</td>\n",
       "      <td>74.98</td>\n",
       "      <td>94</td>\n",
       "      <td>0</td>\n",
       "      <td>2.24</td>\n",
       "      <td>IN</td>\n",
       "      <td>1602687871</td>\n",
       "    </tr>\n",
       "    <tr>\n",
       "      <th>266</th>\n",
       "      <td>266</td>\n",
       "      <td>alice springs</td>\n",
       "      <td>-23.70</td>\n",
       "      <td>133.88</td>\n",
       "      <td>75.00</td>\n",
       "      <td>32</td>\n",
       "      <td>0</td>\n",
       "      <td>4.70</td>\n",
       "      <td>AU</td>\n",
       "      <td>1602688353</td>\n",
       "    </tr>\n",
       "    <tr>\n",
       "      <th>418</th>\n",
       "      <td>418</td>\n",
       "      <td>pelotas</td>\n",
       "      <td>-31.77</td>\n",
       "      <td>-52.34</td>\n",
       "      <td>72.68</td>\n",
       "      <td>54</td>\n",
       "      <td>0</td>\n",
       "      <td>2.73</td>\n",
       "      <td>BR</td>\n",
       "      <td>1602688709</td>\n",
       "    </tr>\n",
       "    <tr>\n",
       "      <th>491</th>\n",
       "      <td>491</td>\n",
       "      <td>whittlesea</td>\n",
       "      <td>-32.18</td>\n",
       "      <td>26.82</td>\n",
       "      <td>74.80</td>\n",
       "      <td>18</td>\n",
       "      <td>0</td>\n",
       "      <td>2.51</td>\n",
       "      <td>ZA</td>\n",
       "      <td>1602688874</td>\n",
       "    </tr>\n",
       "  </tbody>\n",
       "</table>\n",
       "</div>"
      ],
      "text/plain": [
       "     City ID           City    Lat     Lng  Max Temp  Humidity  Cloudiness  \\\n",
       "60        60           tura  25.52   90.22     74.98        94           0   \n",
       "266      266  alice springs -23.70  133.88     75.00        32           0   \n",
       "418      418        pelotas -31.77  -52.34     72.68        54           0   \n",
       "491      491     whittlesea -32.18   26.82     74.80        18           0   \n",
       "\n",
       "     Wind Speed Country        Date  \n",
       "60         2.24      IN  1602687871  \n",
       "266        4.70      AU  1602688353  \n",
       "418        2.73      BR  1602688709  \n",
       "491        2.51      ZA  1602688874  "
      ]
     },
     "execution_count": 5,
     "metadata": {},
     "output_type": "execute_result"
    }
   ],
   "source": [
    "# ideal weather conditions\n",
    "ideal_max_temp = 80\n",
    "ideal_min_temp = 70\n",
    "ideal_wind_speed = 5\n",
    "ideal_cloud = 0\n",
    "\n",
    "# create dataframe to satisfy ideal weather conditions\n",
    "vacation_df = cities_df.loc[(cities_df['Max Temp'] >= ideal_min_temp) &\n",
    "                           (cities_df['Max Temp'] < ideal_max_temp) &\n",
    "                           (cities_df['Wind Speed'] <= ideal_wind_speed) &\n",
    "                           (cities_df['Cloudiness'] <= ideal_cloud)]\n",
    "\n",
    "#drop any rows will null values\n",
    "vacation_df.dropna()\n",
    "vacation_df"
   ]
  },
  {
   "cell_type": "markdown",
   "metadata": {},
   "source": [
    "### Hotel Map\n",
    "* Store into variable named `hotel_df`.\n",
    "* Add a \"Hotel Name\" column to the DataFrame.\n",
    "* Set parameters to search for hotels with 5000 meters.\n",
    "* Hit the Google Places API for each city's coordinates.\n",
    "* Store the first Hotel result into the DataFrame.\n",
    "* Plot markers on top of the heatmap."
   ]
  },
  {
   "cell_type": "code",
   "execution_count": 6,
   "metadata": {},
   "outputs": [],
   "source": [
    "# add column for Hotel Name\n",
    "hotel_df = pd.DataFrame({\"City\": vacation_df[\"City\"],\n",
    "                         \"Country\": vacation_df[\"Country\"],\n",
    "                         \"Lat\": vacation_df[\"Lat\"],\n",
    "                         \"Lng\": vacation_df[\"Lng\"]\n",
    "                        })\n",
    "hotel_df[\"Hotel Name\"] = \"\"\n",
    "\n",
    "# params dictionary to update each iteration\n",
    "params = {\n",
    "    \"radius\": 50000,\n",
    "    \"types\": \"hotel\",\n",
    "    \"keyword\": \"hotel\",\n",
    "    \"key\": g_key\n",
    "}\n",
    "\n",
    "# set the base url\n",
    "base_url = \"https://maps.googleapis.com/maps/api/place/nearbysearch/json\"\n",
    "\n"
   ]
  },
  {
   "cell_type": "code",
   "execution_count": 7,
   "metadata": {},
   "outputs": [],
   "source": [
    "# for each city in the ideal vacation spots\n",
    "for index, row in hotel_df.iterrows():\n",
    "    # get lat, lng from df\n",
    "    lat = row[\"Lat\"]\n",
    "    lng = row[\"Lng\"]\n",
    "\n",
    "    # change location each iteration while leaving original params in place\n",
    "    params[\"location\"] = f\"{lat},{lng}\"\n",
    "\n",
    "    # make request and print url\n",
    "    name_address = requests.get(base_url, params=params)\n",
    "    \n",
    "    #     print the name_address url, avoid doing for public github repos in order to avoid exposing key\n",
    "    #print(name_address.url)\n",
    "\n",
    "    # convert to json\n",
    "    name_address = name_address.json()\n",
    "    #print(json.dumps(name_address, indent=4, sort_keys=True))\n",
    "\n",
    "    # Since some data may be missing we incorporate a try-except to skip any that are missing a data point.\n",
    "    try:\n",
    "        hotel_df.loc[index, \"Hotel Name\"] = name_address[\"results\"][0][\"name\"]\n",
    "    except (KeyError, IndexError):\n",
    "        print(\"Missing field/result... skipping.\")"
   ]
  },
  {
   "cell_type": "code",
   "execution_count": 8,
   "metadata": {},
   "outputs": [],
   "source": [
    "# NOTE: Do not change any of the code in this cell\n",
    "\n",
    "# Using the template add the hotel marks to the heatmap\n",
    "info_box_template = \"\"\"\n",
    "<dl>\n",
    "<dt>Name</dt><dd>{Hotel Name}</dd>\n",
    "<dt>City</dt><dd>{City}</dd>\n",
    "<dt>Country</dt><dd>{Country}</dd>\n",
    "</dl>\n",
    "\"\"\"\n",
    "# Store the DataFrame Row\n",
    "# NOTE: be sure to update with your DataFrame name\n",
    "hotel_info = [info_box_template.format(**row) for index, row in hotel_df.iterrows()]\n",
    "locations = hotel_df[[\"Lat\", \"Lng\"]]"
   ]
  },
  {
   "cell_type": "code",
   "execution_count": 9,
   "metadata": {},
   "outputs": [
    {
     "data": {
      "application/vnd.jupyter.widget-view+json": {
       "model_id": "338301a87d254848840596a4b23c9427",
       "version_major": 2,
       "version_minor": 0
      },
      "text/plain": [
       "Figure(layout=FigureLayout(height='420px'))"
      ]
     },
     "metadata": {},
     "output_type": "display_data"
    }
   ],
   "source": [
    "# Add marker layer ontop of heat map\n",
    "markers = gmaps.marker_layer(locations, info_box_content=hotel_info)\n",
    "\n",
    "# Add the layer to the map\n",
    "fig.add_layer(markers)\n",
    "\n",
    "# Display figure\n",
    "fig\n",
    "\n"
   ]
  },
  {
   "cell_type": "code",
   "execution_count": null,
   "metadata": {},
   "outputs": [],
   "source": []
  }
 ],
 "metadata": {
  "kernelspec": {
   "display_name": "Python 3",
   "language": "python",
   "name": "python3"
  },
  "language_info": {
   "codemirror_mode": {
    "name": "ipython",
    "version": 3
   },
   "file_extension": ".py",
   "mimetype": "text/x-python",
   "name": "python",
   "nbconvert_exporter": "python",
   "pygments_lexer": "ipython3",
   "version": "3.6.10"
  },
  "latex_envs": {
   "LaTeX_envs_menu_present": true,
   "autoclose": false,
   "autocomplete": true,
   "bibliofile": "biblio.bib",
   "cite_by": "apalike",
   "current_citInitial": 1,
   "eqLabelWithNumbers": true,
   "eqNumInitial": 1,
   "hotkeys": {
    "equation": "Ctrl-E",
    "itemize": "Ctrl-I"
   },
   "labels_anchors": false,
   "latex_user_defs": false,
   "report_style_numbering": false,
   "user_envs_cfg": false
  }
 },
 "nbformat": 4,
 "nbformat_minor": 4
}
