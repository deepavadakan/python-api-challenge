{
 "cells": [
  {
   "cell_type": "markdown",
   "metadata": {},
   "source": [
    "# WeatherPy\n",
    "----\n",
    "\n",
    "#### Note\n",
    "* Instructions have been included for each segment. You do not have to follow them exactly, but they are included to help you think through the steps."
   ]
  },
  {
   "cell_type": "code",
   "execution_count": 71,
   "metadata": {
    "scrolled": true
   },
   "outputs": [],
   "source": [
    "# Dependencies and Setup\n",
    "import matplotlib.pyplot as plt\n",
    "import pandas as pd\n",
    "import numpy as np\n",
    "import requests\n",
    "import time\n",
    "from scipy.stats import linregress\n",
    "\n",
    "# Import API key\n",
    "from api_keys import weather_api_key\n",
    "\n",
    "# Incorporated citipy to determine city based on latitude and longitude\n",
    "from citipy import citipy\n",
    "\n",
    "# Output File (CSV)\n",
    "output_data_file = \"output_data/cities.csv\"\n",
    "\n",
    "# Range of latitudes and longitudes\n",
    "lat_range = (-90, 90)\n",
    "lng_range = (-180, 180)"
   ]
  },
  {
   "cell_type": "markdown",
   "metadata": {},
   "source": [
    "## Generate Cities List"
   ]
  },
  {
   "cell_type": "code",
   "execution_count": 72,
   "metadata": {},
   "outputs": [
    {
     "data": {
      "text/plain": [
       "593"
      ]
     },
     "execution_count": 72,
     "metadata": {},
     "output_type": "execute_result"
    }
   ],
   "source": [
    "# List for holding lat_lngs and cities\n",
    "lat_lngs = []\n",
    "cities = []\n",
    "\n",
    "# Create a set of random lat and lng combinations\n",
    "lats = np.random.uniform(lat_range[0], lat_range[1], size=1500)\n",
    "lngs = np.random.uniform(lng_range[0], lng_range[1], size=1500)\n",
    "lat_lngs = zip(lats, lngs)\n",
    "\n",
    "# Identify nearest city for each lat, lng combination\n",
    "for lat_lng in lat_lngs:\n",
    "    city = citipy.nearest_city(lat_lng[0], lat_lng[1]).city_name\n",
    "    \n",
    "    # If the city is unique, then add it to a our cities list\n",
    "    if city not in cities:\n",
    "        cities.append(city)\n",
    "        \n",
    "\n",
    "# Print the city count to confirm sufficient count\n",
    "len(cities)\n"
   ]
  },
  {
   "cell_type": "markdown",
   "metadata": {},
   "source": [
    "## Perform API Calls\n",
    "* Perform a weather check on each city using a series of successive API calls.\n",
    "* Include a print log of each city as it'sbeing processed (with the city number and city name).\n"
   ]
  },
  {
   "cell_type": "code",
   "execution_count": null,
   "metadata": {
    "scrolled": true
   },
   "outputs": [
    {
     "name": "stdout",
     "output_type": "stream",
     "text": [
      "Beginning Data Retrieval\n",
      "-----------------------------\n",
      "Processing Record 0 for | ust-nera\n",
      "Processing Record 1 for | villa bruzual\n",
      "Processing Record 2 for | ilulissat\n",
      "Processing Record 3 for | marzuq\n",
      "Processing Record 4 for | lagoa\n",
      "Processing Record 5 for | saint anthony\n",
      "City not found. Skipping...\n",
      "Processing Record 6 for | bambous virieux\n",
      "Processing Record 7 for | nakhon phanom\n",
      "Processing Record 8 for | busselton\n",
      "Processing Record 9 for | kirkwood\n",
      "Processing Record 10 for | hermanus\n",
      "Processing Record 11 for | mehran\n",
      "Processing Record 12 for | lichinga\n",
      "Processing Record 13 for | kaitangata\n",
      "Processing Record 14 for | rikitea\n",
      "City not found. Skipping...\n",
      "City not found. Skipping...\n",
      "City not found. Skipping...\n",
      "Processing Record 15 for | luanda\n",
      "Processing Record 16 for | sao filipe\n",
      "Processing Record 17 for | port hedland\n",
      "Processing Record 18 for | ushuaia\n",
      "City not found. Skipping...\n",
      "Processing Record 19 for | flinders\n",
      "Processing Record 20 for | basse-pointe\n",
      "Processing Record 21 for | atuona\n",
      "Processing Record 22 for | caluquembe\n",
      "City not found. Skipping...\n",
      "Processing Record 23 for | portland\n",
      "Processing Record 24 for | caohai\n",
      "Processing Record 25 for | kloulklubed\n",
      "City not found. Skipping...\n",
      "Processing Record 26 for | pisco\n",
      "Processing Record 27 for | kapaa\n",
      "Processing Record 28 for | butaritari\n",
      "Processing Record 29 for | boffa\n",
      "Processing Record 30 for | krasnovishersk\n",
      "Processing Record 31 for | neepawa\n",
      "Processing Record 32 for | tuktoyaktuk\n",
      "Processing Record 33 for | punta arenas\n",
      "Processing Record 34 for | oussouye\n",
      "Processing Record 35 for | vaini\n",
      "Processing Record 36 for | laguna\n",
      "Processing Record 37 for | puerto ayora\n",
      "Processing Record 38 for | papara\n",
      "City not found. Skipping...\n",
      "Processing Record 39 for | lompoc\n",
      "Processing Record 40 for | karratha\n",
      "Processing Record 41 for | albany\n",
      "Processing Record 42 for | astana\n",
      "Processing Record 43 for | bamora\n",
      "Processing Record 44 for | derzhavinsk\n",
      "Processing Record 45 for | hithadhoo\n",
      "Processing Record 46 for | port alfred\n",
      "Processing Record 47 for | batagay\n",
      "Processing Record 48 for | hambantota\n",
      "Processing Record 49 for | chuy\n",
      "City not found. Skipping...\n",
      "Processing Record 50 for | alofi\n",
      "Processing Record 51 for | thompson\n",
      "Processing Record 52 for | grand gaube\n",
      "Processing Record 53 for | energetik\n",
      "Processing Record 54 for | tasiilaq\n",
      "Processing Record 55 for | constitucion\n",
      "Processing Record 56 for | mar del plata\n",
      "City not found. Skipping...\n",
      "Processing Record 57 for | grindavik\n",
      "Processing Record 58 for | nikolskoye\n",
      "City not found. Skipping...\n",
      "Processing Record 59 for | jamestown\n",
      "Processing Record 60 for | tura\n",
      "Processing Record 61 for | saint-philippe\n",
      "Processing Record 62 for | dikson\n",
      "Processing Record 63 for | shelburne\n",
      "Processing Record 64 for | castro\n",
      "Processing Record 65 for | bengkulu\n",
      "Processing Record 66 for | fairbanks\n",
      "Processing Record 67 for | port lincoln\n",
      "Processing Record 68 for | bredasdorp\n",
      "Processing Record 69 for | mataura\n",
      "Processing Record 70 for | khatanga\n",
      "Processing Record 71 for | ahipara\n",
      "Processing Record 72 for | bereda\n",
      "Processing Record 73 for | upernavik\n",
      "Processing Record 74 for | hobart\n",
      "Processing Record 75 for | bubaque\n",
      "Processing Record 76 for | bousso\n",
      "Processing Record 77 for | ribeira grande\n",
      "Processing Record 78 for | souillac\n",
      "Processing Record 79 for | christchurch\n",
      "Processing Record 80 for | yellowknife\n",
      "Processing Record 81 for | mana\n",
      "Processing Record 82 for | lavrentiya\n",
      "Processing Record 83 for | cape town\n",
      "Processing Record 84 for | kodiak\n",
      "Processing Record 85 for | arraial do cabo\n",
      "Processing Record 86 for | aswan\n",
      "Processing Record 87 for | lysyanka\n",
      "Processing Record 88 for | saskylakh\n",
      "Processing Record 89 for | carnarvon\n",
      "Processing Record 90 for | leningradskiy\n",
      "Processing Record 91 for | avarua\n",
      "Processing Record 92 for | ishinomaki\n",
      "Processing Record 93 for | dourbali\n",
      "Processing Record 94 for | puerto colombia\n",
      "Processing Record 95 for | sokolo\n",
      "Processing Record 96 for | hilo\n",
      "Processing Record 97 for | qaanaaq\n",
      "Processing Record 98 for | bluff\n",
      "Processing Record 99 for | vanimo\n",
      "Processing Record 100 for | porbandar\n",
      "Processing Record 101 for | georgetown\n",
      "Processing Record 102 for | amahai\n",
      "Processing Record 103 for | tabory\n",
      "Processing Record 104 for | sisimiut\n",
      "Processing Record 105 for | awjilah\n",
      "Processing Record 106 for | labuhan\n",
      "Processing Record 107 for | mahebourg\n",
      "City not found. Skipping...\n",
      "Processing Record 108 for | norman wells\n",
      "Processing Record 109 for | tual\n",
      "Processing Record 110 for | bonavista\n",
      "Processing Record 111 for | pangnirtung\n",
      "Processing Record 112 for | cururupu\n",
      "City not found. Skipping...\n",
      "Processing Record 113 for | takoradi\n",
      "City not found. Skipping...\n",
      "Processing Record 114 for | katsuura\n",
      "Processing Record 115 for | tanout\n",
      "Processing Record 116 for | tobol\n",
      "Processing Record 117 for | sobolevo\n",
      "Processing Record 118 for | gazli\n",
      "Processing Record 119 for | lingyuan\n",
      "Processing Record 120 for | ponta do sol\n",
      "City not found. Skipping...\n",
      "Processing Record 121 for | beringovskiy\n",
      "Processing Record 122 for | high rock\n",
      "Processing Record 123 for | palmer\n",
      "Processing Record 124 for | haimen\n",
      "Processing Record 125 for | tigil\n",
      "Processing Record 126 for | hirara\n",
      "Processing Record 127 for | gazanjyk\n",
      "Processing Record 128 for | kargil\n",
      "Processing Record 129 for | opuwo\n",
      "Processing Record 130 for | belyy yar\n",
      "Processing Record 131 for | udomlya\n",
      "Processing Record 132 for | port elizabeth\n",
      "Processing Record 133 for | caravelas\n",
      "Processing Record 134 for | chumikan\n",
      "Processing Record 135 for | cidreira\n",
      "Processing Record 136 for | jacobina\n",
      "Processing Record 137 for | srednekolymsk\n",
      "City not found. Skipping...\n",
      "Processing Record 138 for | namibe\n",
      "Processing Record 139 for | talnakh\n",
      "Processing Record 140 for | guerrero negro\n",
      "Processing Record 141 for | saldanha\n",
      "Processing Record 142 for | kalabo\n",
      "Processing Record 143 for | pipri\n",
      "Processing Record 144 for | port macquarie\n",
      "Processing Record 145 for | rochegda\n",
      "Processing Record 146 for | tazovskiy\n",
      "Processing Record 147 for | fort collins\n",
      "Processing Record 148 for | torbay\n",
      "Processing Record 149 for | mount gambier\n",
      "Processing Record 150 for | ushirombo\n",
      "Processing Record 151 for | arlit\n",
      "Processing Record 152 for | grand forks\n",
      "Processing Record 153 for | avera\n",
      "City not found. Skipping...\n",
      "Processing Record 154 for | bareli\n",
      "Processing Record 155 for | huarmey\n",
      "Processing Record 156 for | pringsewu\n",
      "City not found. Skipping...\n",
      "Processing Record 157 for | new norfolk\n",
      "Processing Record 158 for | fortuna\n",
      "Processing Record 159 for | san patricio\n",
      "Processing Record 160 for | bethel\n",
      "Processing Record 161 for | larsnes\n",
      "Processing Record 162 for | nishihara\n",
      "Processing Record 163 for | waw\n",
      "Processing Record 164 for | nome\n",
      "Processing Record 165 for | severo-kurilsk\n",
      "Processing Record 166 for | hamilton\n",
      "Processing Record 167 for | menongue\n",
      "Processing Record 168 for | centenario do sul\n",
      "Processing Record 169 for | jalu\n",
      "Processing Record 170 for | cherskiy\n",
      "City not found. Skipping...\n",
      "City not found. Skipping...\n",
      "Processing Record 171 for | seoul\n",
      "City not found. Skipping...\n",
      "Processing Record 172 for | san andres\n",
      "Processing Record 173 for | provideniya\n",
      "Processing Record 174 for | honiara\n",
      "City not found. Skipping...\n",
      "Processing Record 175 for | oranjestad\n",
      "Processing Record 176 for | hofn\n",
      "Processing Record 177 for | gobabis\n",
      "Processing Record 178 for | victoria\n",
      "City not found. Skipping...\n",
      "Processing Record 179 for | tomatlan\n",
      "Processing Record 180 for | road town\n",
      "Processing Record 181 for | chifeng\n",
      "Processing Record 182 for | coquimbo\n",
      "Processing Record 183 for | ilebo\n",
      "Processing Record 184 for | bilibino\n",
      "City not found. Skipping...\n",
      "Processing Record 185 for | sidi ali\n",
      "Processing Record 186 for | axim\n",
      "Processing Record 187 for | longyearbyen\n",
      "Processing Record 188 for | redmond\n",
      "Processing Record 189 for | cockburn town\n",
      "Processing Record 190 for | akyab\n",
      "City not found. Skipping...\n",
      "Processing Record 191 for | dongsheng\n",
      "Processing Record 192 for | solnechnyy\n",
      "Processing Record 193 for | kopavogur\n",
      "Processing Record 194 for | welkom\n",
      "Processing Record 195 for | sitka\n",
      "Processing Record 196 for | east london\n",
      "Processing Record 197 for | zaraza\n",
      "City not found. Skipping...\n",
      "Processing Record 198 for | san quintin\n",
      "Processing Record 199 for | hasaki\n",
      "Processing Record 200 for | nouadhibou\n",
      "Processing Record 201 for | oranjemund\n"
     ]
    },
    {
     "name": "stdout",
     "output_type": "stream",
     "text": [
      "Processing Record 202 for | teguise\n",
      "Processing Record 203 for | barrow\n",
      "Processing Record 204 for | ouadda\n",
      "Processing Record 205 for | tuatapere\n",
      "Processing Record 206 for | wanaka\n",
      "City not found. Skipping...\n",
      "City not found. Skipping...\n",
      "Processing Record 207 for | lagunas\n",
      "Processing Record 208 for | pandan\n",
      "Processing Record 209 for | nagato\n",
      "Processing Record 210 for | bathsheba\n",
      "City not found. Skipping...\n",
      "Processing Record 211 for | jablah\n",
      "Processing Record 212 for | kutum\n",
      "Processing Record 213 for | pokhvistnevo\n",
      "Processing Record 214 for | sao joao da barra\n",
      "Processing Record 215 for | chicama\n",
      "Processing Record 216 for | hualmay\n",
      "Processing Record 217 for | port moresby\n",
      "Processing Record 218 for | gubkinskiy\n",
      "Processing Record 219 for | kruisfontein\n",
      "Processing Record 220 for | zhuhai\n",
      "Processing Record 221 for | atar\n",
      "Processing Record 222 for | porto uniao\n",
      "Processing Record 223 for | matara\n",
      "City not found. Skipping...\n",
      "Processing Record 224 for | waipawa\n",
      "City not found. Skipping...\n",
      "Processing Record 225 for | raga\n",
      "Processing Record 226 for | moulins\n",
      "Processing Record 227 for | gushikawa\n",
      "Processing Record 228 for | cabra\n",
      "City not found. Skipping...\n",
      "City not found. Skipping...\n",
      "Processing Record 229 for | abu dhabi\n",
      "Processing Record 230 for | oktyabrskoye\n",
      "Processing Record 231 for | olinda\n",
      "Processing Record 232 for | tazmalt\n",
      "Processing Record 233 for | nauchnyy gorodok\n",
      "Processing Record 234 for | faanui\n",
      "Processing Record 235 for | ongandjera\n",
      "Processing Record 236 for | sembakung\n",
      "Processing Record 237 for | santa branca\n",
      "Processing Record 238 for | sakakah\n",
      "Processing Record 239 for | adjumani\n",
      "Processing Record 240 for | sampang\n",
      "Processing Record 241 for | monterey\n",
      "Processing Record 242 for | zhigansk\n",
      "Processing Record 243 for | roald\n",
      "City not found. Skipping...\n",
      "Processing Record 244 for | kiblawan\n",
      "Processing Record 245 for | tiksi\n",
      "Processing Record 246 for | floro\n",
      "Processing Record 247 for | villazon\n",
      "Processing Record 248 for | berbera\n",
      "Processing Record 249 for | tutoia\n",
      "Processing Record 250 for | honningsvag\n",
      "Processing Record 251 for | lasa\n",
      "Processing Record 252 for | sept-iles\n",
      "Processing Record 253 for | tabuk\n",
      "Processing Record 254 for | yanam\n",
      "Processing Record 255 for | merauke\n",
      "Processing Record 256 for | griffith\n",
      "Processing Record 257 for | laurel\n",
      "Processing Record 258 for | winnemucca\n",
      "Processing Record 259 for | gizo\n",
      "Processing Record 260 for | samur\n",
      "Processing Record 261 for | san marco in lamis\n",
      "Processing Record 262 for | koslan\n",
      "Processing Record 263 for | mitsamiouli\n",
      "Processing Record 264 for | monrovia\n",
      "Processing Record 265 for | esil\n",
      "Processing Record 266 for | alice springs\n",
      "Processing Record 267 for | nikolayevka\n",
      "Processing Record 268 for | richards bay\n",
      "Processing Record 269 for | port-gentil\n",
      "Processing Record 270 for | aripuana\n",
      "Processing Record 271 for | aasiaat\n",
      "Processing Record 272 for | hami\n",
      "Processing Record 273 for | isangel\n",
      "Processing Record 274 for | kavaratti\n",
      "Processing Record 275 for | rognan\n",
      "Processing Record 276 for | sayyan\n",
      "Processing Record 277 for | rio gallegos\n",
      "Processing Record 278 for | emba\n",
      "Processing Record 279 for | karasjok\n",
      "City not found. Skipping...\n",
      "Processing Record 280 for | kalmunai\n",
      "Processing Record 281 for | brae\n",
      "Processing Record 282 for | yumen\n",
      "Processing Record 283 for | llanes\n",
      "Processing Record 284 for | sawtell\n",
      "Processing Record 285 for | airai\n",
      "Processing Record 286 for | chokurdakh\n",
      "Processing Record 287 for | krk\n",
      "Processing Record 288 for | sistranda\n",
      "City not found. Skipping...\n",
      "Processing Record 289 for | tabou\n",
      "Processing Record 290 for | gbadolite\n",
      "Processing Record 291 for | yar-sale\n",
      "Processing Record 292 for | voykove\n",
      "City not found. Skipping...\n",
      "Processing Record 293 for | dunedin\n",
      "Processing Record 294 for | carahue\n",
      "Processing Record 295 for | lenggries\n",
      "Processing Record 296 for | lancaster\n",
      "Processing Record 297 for | mattawa\n",
      "Processing Record 298 for | westport\n",
      "Processing Record 299 for | aktash\n",
      "Processing Record 300 for | amapa\n",
      "Processing Record 301 for | carrickfergus\n",
      "Processing Record 302 for | mecca\n",
      "City not found. Skipping...\n",
      "Processing Record 303 for | saint-augustin\n",
      "Processing Record 304 for | tromso\n",
      "City not found. Skipping...\n",
      "Processing Record 305 for | dongkan\n",
      "Processing Record 306 for | nicoya\n",
      "Processing Record 307 for | chimbote\n",
      "Processing Record 308 for | muravlenko\n",
      "Processing Record 309 for | mount isa\n",
      "Processing Record 310 for | shamilkala\n",
      "Processing Record 311 for | les cayes\n",
      "Processing Record 312 for | kindu\n",
      "Processing Record 313 for | simbahan\n",
      "Processing Record 314 for | cabedelo\n",
      "Processing Record 315 for | nicolas bravo\n",
      "Processing Record 316 for | padang\n",
      "Processing Record 317 for | palu\n",
      "Processing Record 318 for | mindelo\n",
      "Processing Record 319 for | ancud\n",
      "Processing Record 320 for | tautira\n",
      "Processing Record 321 for | soligalich\n",
      "Processing Record 322 for | along\n",
      "Processing Record 323 for | manono\n",
      "Processing Record 324 for | bloomfield\n",
      "Processing Record 325 for | lebu\n",
      "Processing Record 326 for | nizwa\n",
      "Processing Record 327 for | kidal\n",
      "Processing Record 328 for | rockland\n",
      "Processing Record 329 for | geraldton\n",
      "City not found. Skipping...\n",
      "Processing Record 330 for | bandarbeyla\n",
      "Processing Record 331 for | karaton\n",
      "Processing Record 332 for | port hawkesbury\n",
      "Processing Record 333 for | dingle\n",
      "Processing Record 334 for | komsomolskiy\n",
      "Processing Record 335 for | borogontsy\n",
      "Processing Record 336 for | port blair\n",
      "City not found. Skipping...\n",
      "Processing Record 337 for | tuxpan\n",
      "Processing Record 338 for | linhares\n",
      "Processing Record 339 for | bessemer\n",
      "Processing Record 340 for | pinega\n",
      "City not found. Skipping...\n",
      "Processing Record 341 for | vardo\n",
      "City not found. Skipping...\n",
      "Processing Record 342 for | esperance\n",
      "Processing Record 343 for | georgiyevskoye\n",
      "Processing Record 344 for | sioux lookout\n",
      "Processing Record 345 for | kimbe\n",
      "City not found. Skipping...\n",
      "City not found. Skipping...\n",
      "Processing Record 346 for | kempsey\n",
      "Processing Record 347 for | weyburn\n",
      "Processing Record 348 for | baghdad\n",
      "Processing Record 349 for | kozhva\n",
      "Processing Record 350 for | olafsvik\n",
      "Processing Record 351 for | flin flon\n",
      "Processing Record 352 for | samarai\n",
      "Processing Record 353 for | namatanai\n",
      "Processing Record 354 for | kuandian\n",
      "Processing Record 355 for | umea\n",
      "Processing Record 356 for | virginia beach\n",
      "Processing Record 357 for | boende\n",
      "Processing Record 358 for | fallon\n",
      "Processing Record 359 for | tuy hoa\n",
      "Processing Record 360 for | krutinka\n",
      "Processing Record 361 for | raichur\n",
      "City not found. Skipping...\n",
      "Processing Record 362 for | male\n",
      "Processing Record 363 for | biggar\n",
      "Processing Record 364 for | walvis bay\n",
      "Processing Record 365 for | dabakala\n",
      "Processing Record 366 for | narsaq\n",
      "Processing Record 367 for | nata\n",
      "Processing Record 368 for | wukari\n",
      "Processing Record 369 for | micheweni\n",
      "Processing Record 370 for | igarka\n",
      "Processing Record 371 for | north bend\n",
      "Processing Record 372 for | simao\n",
      "Processing Record 373 for | nanortalik\n",
      "Processing Record 374 for | tornio\n",
      "Processing Record 375 for | witu\n",
      "City not found. Skipping...\n",
      "Processing Record 376 for | kungurtug\n",
      "Processing Record 377 for | mehamn\n",
      "Processing Record 378 for | iqaluit\n",
      "Processing Record 379 for | oksfjord\n",
      "Processing Record 380 for | vanderhoof\n",
      "Processing Record 381 for | haines junction\n",
      "Processing Record 382 for | abu samrah\n",
      "Processing Record 383 for | canutama\n",
      "Processing Record 384 for | dalby\n",
      "Processing Record 385 for | sawakin\n",
      "Processing Record 386 for | harper\n",
      "Processing Record 387 for | san juan\n",
      "Processing Record 388 for | heide\n",
      "Processing Record 389 for | requena\n",
      "Processing Record 390 for | te anau\n",
      "City not found. Skipping...\n",
      "Processing Record 391 for | calama\n",
      "Processing Record 392 for | santa isabel do rio negro\n",
      "City not found. Skipping...\n",
      "Processing Record 393 for | adrar\n",
      "Processing Record 394 for | rocha\n",
      "Processing Record 395 for | lashio\n",
      "Processing Record 396 for | muros\n",
      "Processing Record 397 for | noumea\n",
      "Processing Record 398 for | qingdao\n",
      "Processing Record 399 for | luderitz\n",
      "City not found. Skipping...\n",
      "Processing Record 400 for | kahului\n",
      "Processing Record 401 for | kandrian\n",
      "Processing Record 402 for | makakilo city\n",
      "Processing Record 403 for | natchitoches\n",
      "Processing Record 404 for | pangkalanbuun\n",
      "Processing Record 405 for | chernyshevskiy\n",
      "Processing Record 406 for | uyuni\n"
     ]
    },
    {
     "name": "stdout",
     "output_type": "stream",
     "text": [
      "Processing Record 407 for | nara\n",
      "Processing Record 408 for | erenhot\n",
      "Processing Record 409 for | eral\n",
      "Processing Record 410 for | motala\n",
      "Processing Record 411 for | fayaoue\n",
      "City not found. Skipping...\n",
      "Processing Record 412 for | ulaanbaatar\n",
      "Processing Record 413 for | andros town\n",
      "Processing Record 414 for | maura\n",
      "Processing Record 415 for | krasavino\n",
      "Processing Record 416 for | lahad datu\n",
      "Processing Record 417 for | lorengau\n",
      "Processing Record 418 for | pelotas\n",
      "Processing Record 419 for | luwuk\n",
      "Processing Record 420 for | upata\n",
      "Processing Record 421 for | taoudenni\n",
      "Processing Record 422 for | xiuyan\n",
      "Processing Record 423 for | shingu\n",
      "Processing Record 424 for | tamworth\n",
      "Processing Record 425 for | kavieng\n",
      "Processing Record 426 for | yulara\n",
      "Processing Record 427 for | fort-shevchenko\n",
      "Processing Record 428 for | omsukchan\n",
      "Processing Record 429 for | slave lake\n",
      "Processing Record 430 for | mamallapuram\n",
      "Processing Record 431 for | puerto escondido\n",
      "Processing Record 432 for | ostrovnoy\n",
      "Processing Record 433 for | kolvereid\n",
      "City not found. Skipping...\n",
      "Processing Record 434 for | darhan\n",
      "Processing Record 435 for | diffa\n",
      "Processing Record 436 for | saint george\n",
      "Processing Record 437 for | raudeberg\n",
      "Processing Record 438 for | half moon bay\n",
      "Processing Record 439 for | guerande\n",
      "City not found. Skipping...\n",
      "Processing Record 440 for | codajas\n",
      "City not found. Skipping...\n",
      "Processing Record 441 for | batticaloa\n",
      "Processing Record 442 for | lata\n",
      "Processing Record 443 for | paraiso\n",
      "Processing Record 444 for | iquitos\n",
      "Processing Record 445 for | murgab\n",
      "Processing Record 446 for | ponta delgada\n",
      "Processing Record 447 for | naryan-mar\n",
      "Processing Record 448 for | nuuk\n",
      "Processing Record 449 for | zhangjiakou\n",
      "Processing Record 450 for | evensk\n",
      "Processing Record 451 for | kenora\n",
      "City not found. Skipping...\n",
      "Processing Record 452 for | pangai\n",
      "Processing Record 453 for | oskemen\n",
      "Processing Record 454 for | garwa\n",
      "Processing Record 455 for | verkhnevilyuysk\n",
      "Processing Record 456 for | klaksvik\n",
      "Processing Record 457 for | el alto\n",
      "Processing Record 458 for | kununurra\n",
      "Processing Record 459 for | acapulco\n",
      "Processing Record 460 for | campbell river\n",
      "Processing Record 461 for | petropavlovsk-kamchatskiy\n",
      "Processing Record 462 for | gornyy\n",
      "Processing Record 463 for | ngunguru\n",
      "Processing Record 464 for | dubbo\n",
      "Processing Record 465 for | beloha\n",
      "Processing Record 466 for | svetlogorsk\n",
      "City not found. Skipping...\n",
      "Processing Record 467 for | itanhaem\n",
      "Processing Record 468 for | qax\n",
      "Processing Record 469 for | hermosillo\n",
      "Processing Record 470 for | copiapo\n",
      "Processing Record 471 for | bilma\n",
      "Processing Record 472 for | jaicos\n",
      "Processing Record 473 for | clyde river\n",
      "Processing Record 474 for | serov\n",
      "Processing Record 475 for | itarema\n",
      "Processing Record 476 for | mumford\n",
      "City not found. Skipping...\n",
      "Processing Record 477 for | aklavik\n",
      "Processing Record 478 for | saint marys\n",
      "Processing Record 479 for | monte alegre de sergipe\n",
      "Processing Record 480 for | kieta\n"
     ]
    }
   ],
   "source": [
    "#cities1 = [\"London\",\"Paris\",\"New York\",\"DCity\", \"Johannesburg\", \"Canberra\"]\n",
    "\n",
    "# set up list to hold latitude, longitude, max temparature, humidity, cloudiness, \n",
    "# wind speed, country and date\n",
    "lat = []\n",
    "lng = []\n",
    "max_temp = []\n",
    "humidity = []\n",
    "cloudiness = []\n",
    "wind_speed = []\n",
    "country = []\n",
    "date = []\n",
    "cities_clean = []\n",
    "city_count = 0\n",
    "\n",
    "# base weather url\n",
    "weather_url = \"http://api.openweathermap.org/data/2.5/weather?\"\n",
    "\n",
    "print(\"Beginning Data Retrieval\")\n",
    "print(\"-----------------------------\")\n",
    "\n",
    "for city in cities:\n",
    "    # build query url for given city with temparature in F\n",
    "    query_url = weather_url + \"appid=\" + weather_api_key + \"&q=\" + city + \"&units=imperial\"\n",
    "    \n",
    "    # Get weather data\n",
    "    weather_response = requests.get(query_url)\n",
    "    weather_json = weather_response.json()\n",
    "    \n",
    "    try:\n",
    "        # get the latitude, longitude, max temparature, humidity, cloudiness, \n",
    "        # wind speed, country and date and add to lists\n",
    "        lng.append(weather_json['coord']['lon'])\n",
    "        lat.append(weather_json['coord']['lat'])\n",
    "        max_temp.append(weather_json['main']['temp_max'])\n",
    "        humidity.append(weather_json['main']['humidity'])\n",
    "        cloudiness.append(weather_json['clouds']['all'])\n",
    "        wind_speed.append(weather_json['wind']['speed'])\n",
    "        country.append(weather_json['sys']['country'])\n",
    "        date.append(weather_json['dt'])\n",
    "        cities_clean.append(city)\n",
    "        print(f\"Processing Record {city_count} for | {city}\")\n",
    "        city_count += 1\n",
    "    \n",
    "    except (KeyError, IndexError):\n",
    "        print(\"City not found. Skipping...\")\n",
    "\n",
    "    #adding pause for Weather API\n",
    "    time.sleep(2)\n",
    "\n",
    "print(\"-----------------------------\")\n",
    "print(\"Data Retrieval Complete\")\n",
    "print(\"-----------------------------\")"
   ]
  },
  {
   "cell_type": "markdown",
   "metadata": {},
   "source": [
    "## Convert Raw Data to DataFrame\n",
    "* Save as csv"
   ]
  },
  {
   "cell_type": "code",
   "execution_count": 45,
   "metadata": {
    "scrolled": true
   },
   "outputs": [
    {
     "data": {
      "text/html": [
       "<div>\n",
       "<style scoped>\n",
       "    .dataframe tbody tr th:only-of-type {\n",
       "        vertical-align: middle;\n",
       "    }\n",
       "\n",
       "    .dataframe tbody tr th {\n",
       "        vertical-align: top;\n",
       "    }\n",
       "\n",
       "    .dataframe thead th {\n",
       "        text-align: right;\n",
       "    }\n",
       "</style>\n",
       "<table border=\"1\" class=\"dataframe\">\n",
       "  <thead>\n",
       "    <tr style=\"text-align: right;\">\n",
       "      <th></th>\n",
       "      <th>City</th>\n",
       "      <th>Lat</th>\n",
       "      <th>Lng</th>\n",
       "      <th>Max Temp</th>\n",
       "      <th>Humidity</th>\n",
       "      <th>Cloudiness</th>\n",
       "      <th>Wind Speed</th>\n",
       "      <th>Country</th>\n",
       "      <th>Date</th>\n",
       "    </tr>\n",
       "  </thead>\n",
       "  <tbody>\n",
       "    <tr>\n",
       "      <th>0</th>\n",
       "      <td>London</td>\n",
       "      <td>51.51</td>\n",
       "      <td>-0.13</td>\n",
       "      <td>57.99</td>\n",
       "      <td>62</td>\n",
       "      <td>100</td>\n",
       "      <td>9.17</td>\n",
       "      <td>GB</td>\n",
       "      <td>1602686367</td>\n",
       "    </tr>\n",
       "    <tr>\n",
       "      <th>1</th>\n",
       "      <td>Paris</td>\n",
       "      <td>48.85</td>\n",
       "      <td>2.35</td>\n",
       "      <td>59.00</td>\n",
       "      <td>58</td>\n",
       "      <td>75</td>\n",
       "      <td>13.87</td>\n",
       "      <td>FR</td>\n",
       "      <td>1602686316</td>\n",
       "    </tr>\n",
       "    <tr>\n",
       "      <th>2</th>\n",
       "      <td>New York</td>\n",
       "      <td>40.71</td>\n",
       "      <td>-74.01</td>\n",
       "      <td>61.00</td>\n",
       "      <td>62</td>\n",
       "      <td>1</td>\n",
       "      <td>9.17</td>\n",
       "      <td>US</td>\n",
       "      <td>1602686811</td>\n",
       "    </tr>\n",
       "    <tr>\n",
       "      <th>3</th>\n",
       "      <td>Johannesburg</td>\n",
       "      <td>-26.20</td>\n",
       "      <td>28.04</td>\n",
       "      <td>80.01</td>\n",
       "      <td>46</td>\n",
       "      <td>0</td>\n",
       "      <td>7.52</td>\n",
       "      <td>ZA</td>\n",
       "      <td>1602686722</td>\n",
       "    </tr>\n",
       "    <tr>\n",
       "      <th>4</th>\n",
       "      <td>Canberra</td>\n",
       "      <td>-35.28</td>\n",
       "      <td>149.13</td>\n",
       "      <td>57.20</td>\n",
       "      <td>82</td>\n",
       "      <td>90</td>\n",
       "      <td>5.82</td>\n",
       "      <td>AU</td>\n",
       "      <td>1602686753</td>\n",
       "    </tr>\n",
       "  </tbody>\n",
       "</table>\n",
       "</div>"
      ],
      "text/plain": [
       "           City    Lat     Lng  Max Temp  Humidity  Cloudiness  Wind Speed  \\\n",
       "0        London  51.51   -0.13     57.99        62         100        9.17   \n",
       "1         Paris  48.85    2.35     59.00        58          75       13.87   \n",
       "2      New York  40.71  -74.01     61.00        62           1        9.17   \n",
       "3  Johannesburg -26.20   28.04     80.01        46           0        7.52   \n",
       "4      Canberra -35.28  149.13     57.20        82          90        5.82   \n",
       "\n",
       "  Country        Date  \n",
       "0      GB  1602686367  \n",
       "1      FR  1602686316  \n",
       "2      US  1602686811  \n",
       "3      ZA  1602686722  \n",
       "4      AU  1602686753  "
      ]
     },
     "execution_count": 45,
     "metadata": {},
     "output_type": "execute_result"
    }
   ],
   "source": [
    "# create a DataFrame for all the weather information\n",
    "cities_df = pd.DataFrame({\"City\":cities_clean,\n",
    "                          \"Lat\":lat,\n",
    "                          \"Lng\":lng,\n",
    "                          \"Max Temp\":max_temp,\n",
    "                          \"Humidity\":humidity,\n",
    "                          \"Cloudiness\":cloudiness,\n",
    "                          \"Wind Speed\":wind_speed,\n",
    "                          \"Country\":country,\n",
    "                          \"Date\":date})\n",
    "cities_df.head()"
   ]
  },
  {
   "cell_type": "code",
   "execution_count": 46,
   "metadata": {},
   "outputs": [],
   "source": [
    "# save to a csv file\n",
    "cities_df.to_csv(output_data_file)\n"
   ]
  },
  {
   "cell_type": "markdown",
   "metadata": {},
   "source": [
    "## Plotting the Data\n",
    "* Use proper labeling of the plots using plot titles (including date of analysis) and axes labels.\n",
    "* Save the plotted figures as .pngs."
   ]
  },
  {
   "cell_type": "markdown",
   "metadata": {},
   "source": [
    "### Latitude vs. Temperature Plot"
   ]
  },
  {
   "cell_type": "code",
   "execution_count": 47,
   "metadata": {
    "scrolled": true
   },
   "outputs": [
    {
     "data": {
      "image/png": "[encoded data removed]",
      "text/plain": [
       "<Figure size 432x288 with 1 Axes>"
      ]
     },
     "metadata": {
      "needs_background": "light"
     },
     "output_type": "display_data"
    }
   ],
   "source": [
    "# get today's date\n",
    "today_date = pd.to_datetime('today').strftime('%m/%d/%Y')\n",
    "\n",
    "#plot the scatter plot\n",
    "plt.scatter(cities_df['Lat'], cities_df['Max Temp'], edgecolors='black', alpha=.7)\n",
    "plt.title(f\"City Latitude vs. Max Temparature ({today_date})\")\n",
    "plt.xlabel(\"Latitude\")\n",
    "plt.ylabel(\"Max Temperature (F)\")\n",
    "plt.savefig(\"../Images/lat_temp.png\", bbox_inches=\"tight\", pad_inches=.3)\n",
    "plt.show()"
   ]
  },
  {
   "cell_type": "markdown",
   "metadata": {},
   "source": [
    "### Latitude vs. Humidity Plot"
   ]
  },
  {
   "cell_type": "code",
   "execution_count": 48,
   "metadata": {},
   "outputs": [
    {
     "data": {
      "image/png": "[encoded data removed]",
      "text/plain": [
       "<Figure size 432x288 with 1 Axes>"
      ]
     },
     "metadata": {
      "needs_background": "light"
     },
     "output_type": "display_data"
    }
   ],
   "source": [
    "#plot the scatter plot\n",
    "plt.scatter(cities_df['Lat'], cities_df['Humidity'], edgecolors='black', alpha=.7)\n",
    "plt.title(f\"City Latitude vs. Humidity ({today_date})\")\n",
    "plt.xlabel(\"Latitude\")\n",
    "plt.ylabel(\"Humidity (%)\")\n",
    "plt.savefig(\"../Images/lat_humidity.png\", bbox_inches=\"tight\", pad_inches=.3)\n",
    "plt.show()"
   ]
  },
  {
   "cell_type": "markdown",
   "metadata": {},
   "source": [
    "### Latitude vs. Cloudiness Plot"
   ]
  },
  {
   "cell_type": "code",
   "execution_count": 49,
   "metadata": {},
   "outputs": [
    {
     "data": {
      "image/png": "[encoded data removed]",
      "text/plain": [
       "<Figure size 432x288 with 1 Axes>"
      ]
     },
     "metadata": {
      "needs_background": "light"
     },
     "output_type": "display_data"
    }
   ],
   "source": [
    "#plot the scatter plot\n",
    "plt.scatter(cities_df['Lat'], cities_df['Cloudiness'], edgecolors='black', alpha=.7)\n",
    "plt.title(f\"City Latitude vs. Cloudiness ({today_date})\")\n",
    "plt.xlabel(\"Latitude\")\n",
    "plt.ylabel(\"Cloudiness (%)\")\n",
    "plt.savefig(\"../Images/lat_cloudiness.png\", bbox_inches=\"tight\", pad_inches=.3)\n",
    "plt.show()"
   ]
  },
  {
   "cell_type": "markdown",
   "metadata": {},
   "source": [
    "### Latitude vs. Wind Speed Plot"
   ]
  },
  {
   "cell_type": "code",
   "execution_count": 50,
   "metadata": {},
   "outputs": [
    {
     "data": {
      "image/png": "[encoded data removed]",
      "text/plain": [
       "<Figure size 432x288 with 1 Axes>"
      ]
     },
     "metadata": {
      "needs_background": "light"
     },
     "output_type": "display_data"
    }
   ],
   "source": [
    "#plot the scatter plot\n",
    "plt.scatter(cities_df['Lat'], cities_df['Wind Speed'], edgecolors='black', alpha=.7)\n",
    "plt.title(f\"City Latitude vs. Wind Speed ({today_date})\")\n",
    "plt.xlabel(\"Latitude\")\n",
    "plt.ylabel(\"Wind Speed (mph)\")\n",
    "plt.savefig(\"../Images/lat_wind_speed.png\", bbox_inches=\"tight\", pad_inches=.3)\n",
    "plt.show()"
   ]
  },
  {
   "cell_type": "markdown",
   "metadata": {},
   "source": [
    "## Linear Regression"
   ]
  },
  {
   "cell_type": "markdown",
   "metadata": {},
   "source": [
    "### Write linear regression plot function (optional)"
   ]
  },
  {
   "cell_type": "code",
   "execution_count": 62,
   "metadata": {},
   "outputs": [],
   "source": [
    "# plot the linear regression line given the list of x and y values \n",
    "#and print the r-value\n",
    "def linear_regression_plot(x_values, y_values):\n",
    "\n",
    "    (slope, intercept, rvalue, pvalue, stderr) = linregress(x_values, y_values)\n",
    "    regress_values = x_values * slope + intercept\n",
    "    line_eq = \"y = \" + str(round(slope,2)) + \"x + \" + str(round(intercept,2))\n",
    "    plt.plot(x_values, regress_values, \"r-\")\n",
    "    plt.annotate(line_eq, (min(x_values), min(y_values)), fontsize=15, color=\"red\")\n",
    "                                                     \n",
    "    # Calculate the correlation coefficient\n",
    "    print(f\"The r-value is: {rvalue}\")"
   ]
  },
  {
   "cell_type": "markdown",
   "metadata": {},
   "source": [
    "###  Northern Hemisphere - Max Temp vs. Latitude Linear Regression"
   ]
  },
  {
   "cell_type": "code",
   "execution_count": 63,
   "metadata": {},
   "outputs": [
    {
     "name": "stdout",
     "output_type": "stream",
     "text": [
      "The r-value is: -0.9952681664371071\n"
     ]
    },
    {
     "data": {
      "image/png": "[encoded data removed]",
      "text/plain": [
       "<Figure size 432x288 with 1 Axes>"
      ]
     },
     "metadata": {
      "needs_background": "light"
     },
     "output_type": "display_data"
    }
   ],
   "source": [
    "# find the data for Northern Hemisphere\n",
    "north_hemp = cities_df.loc[cities_df['Lat'] >= 0]\n",
    "\n",
    "# find the latitudes and Max Temp lists for Northern Hemisphere\n",
    "lat_north_values = north_hemp['Lat']\n",
    "temp_values = north_hemp['Max Temp']\n",
    "\n",
    "# plot the scatter plot\n",
    "plt.scatter(lat_north_values, temp_values, edgecolors='black', alpha=.7)\n",
    "plt.title(\"Northern Hemisphere - City Latitude vs. Max Temp\")\n",
    "plt.xlabel(\"Latitude\")\n",
    "plt.ylabel(\"Max Temperature (F)\")\n",
    "\n",
    "# plot the linear regression line and find the r-vlaue\n",
    "linear_regression_plot(lat_north_values, temp_values)\n",
    "plt.show()"
   ]
  },
  {
   "cell_type": "markdown",
   "metadata": {},
   "source": [
    "###  Southern Hemisphere - Max Temp vs. Latitude Linear Regression"
   ]
  },
  {
   "cell_type": "code",
   "execution_count": 64,
   "metadata": {},
   "outputs": [
    {
     "name": "stdout",
     "output_type": "stream",
     "text": [
      "The r-value is: 0.9999999999999999\n"
     ]
    },
    {
     "data": {
      "image/png": "[encoded data removed]",
      "text/plain": [
       "<Figure size 432x288 with 1 Axes>"
      ]
     },
     "metadata": {
      "needs_background": "light"
     },
     "output_type": "display_data"
    }
   ],
   "source": [
    "# find the data for Southern Hemisphere\n",
    "south_hemp = cities_df.loc[cities_df['Lat'] < 0]\n",
    "\n",
    "# find the latitudes and Max Temp lists for Southern Hemisphere\n",
    "lat_south_values = south_hemp['Lat']\n",
    "temp_values = south_hemp['Max Temp']\n",
    "\n",
    "# plot the scatter plot\n",
    "plt.scatter(lat_south_values, temp_values, edgecolors='black', alpha=.7)\n",
    "plt.title(\"Southern Hemisphere - City Latitude vs. Max Temp\")\n",
    "plt.xlabel(\"Latitude\")\n",
    "plt.ylabel(\"Max Temperature (F)\")\n",
    "\n",
    "# plot the linear regression line and find the r-vlaue\n",
    "linear_regression_plot(lat_south_values, temp_values)\n",
    "plt.show()"
   ]
  },
  {
   "cell_type": "markdown",
   "metadata": {},
   "source": [
    "###  Northern Hemisphere - Humidity (%) vs. Latitude Linear Regression"
   ]
  },
  {
   "cell_type": "code",
   "execution_count": 65,
   "metadata": {},
   "outputs": [
    {
     "name": "stdout",
     "output_type": "stream",
     "text": [
      "The r-value is: -0.28113641692045827\n"
     ]
    },
    {
     "data": {
      "image/png": "[encoded data removed]",
      "text/plain": [
       "<Figure size 432x288 with 1 Axes>"
      ]
     },
     "metadata": {
      "needs_background": "light"
     },
     "output_type": "display_data"
    }
   ],
   "source": [
    "# find the Humidity lists for Northern Hemisphere\n",
    "humd_values = north_hemp['Humidity']\n",
    "\n",
    "# plot the scatter plot\n",
    "plt.scatter(lat_north_values, humd_values, edgecolors='black', alpha=.7)\n",
    "plt.title(\"Northern Hemisphere - City Latitude vs. Humidity\")\n",
    "plt.xlabel(\"Latitude\")\n",
    "plt.ylabel(\"Humidity (%)\")\n",
    "\n",
    "# plot the linear regression line and find the r-vlaue\n",
    "linear_regression_plot(lat_north_values, humd_values)\n",
    "plt.show()"
   ]
  },
  {
   "cell_type": "markdown",
   "metadata": {},
   "source": [
    "###  Southern Hemisphere - Humidity (%) vs. Latitude Linear Regression"
   ]
  },
  {
   "cell_type": "code",
   "execution_count": 66,
   "metadata": {},
   "outputs": [
    {
     "name": "stdout",
     "output_type": "stream",
     "text": [
      "The r-value is: -1.0\n"
     ]
    },
    {
     "data": {
      "image/png": "[encoded data removed]",
      "text/plain": [
       "<Figure size 432x288 with 1 Axes>"
      ]
     },
     "metadata": {
      "needs_background": "light"
     },
     "output_type": "display_data"
    }
   ],
   "source": [
    "# find the Humidity lists for Southern Hemisphere\n",
    "humd_values = south_hemp['Humidity']\n",
    "\n",
    "# plot the scatter plot\n",
    "plt.scatter(lat_south_values, humd_values, edgecolors='black', alpha=.7)\n",
    "plt.title(\"Southern Hemisphere - City Latitude vs. Humidity\")\n",
    "plt.xlabel(\"Latitude\")\n",
    "plt.ylabel(\"Humidity (%)\")\n",
    "\n",
    "# plot the linear regression line and find the r-vlaue\n",
    "linear_regression_plot(lat_south_values, humd_values)\n",
    "plt.show()"
   ]
  },
  {
   "cell_type": "markdown",
   "metadata": {},
   "source": [
    "###  Northern Hemisphere - Cloudiness (%) vs. Latitude Linear Regression"
   ]
  },
  {
   "cell_type": "code",
   "execution_count": 67,
   "metadata": {},
   "outputs": [
    {
     "name": "stdout",
     "output_type": "stream",
     "text": [
      "The r-value is: 0.9999779760181566\n"
     ]
    },
    {
     "data": {
      "image/png": "[encoded data removed]",
      "text/plain": [
       "<Figure size 432x288 with 1 Axes>"
      ]
     },
     "metadata": {
      "needs_background": "light"
     },
     "output_type": "display_data"
    }
   ],
   "source": [
    "# find the Cloudiness lists for Northern Hemisphere\n",
    "cloud_values = north_hemp['Cloudiness']\n",
    "\n",
    "# plot the scatter plot\n",
    "plt.scatter(lat_north_values, cloud_values, edgecolors='black', alpha=.7)\n",
    "plt.title(\"Northern Hemisphere - City Latitude vs. Cloudiness\")\n",
    "plt.xlabel(\"Latitude\")\n",
    "plt.ylabel(\"Cloudiness (%)\")\n",
    "\n",
    "# plot the linear regression line and find the r-vlaue\n",
    "linear_regression_plot(lat_north_values, cloud_values)\n",
    "plt.show()"
   ]
  },
  {
   "cell_type": "markdown",
   "metadata": {},
   "source": [
    "###  Southern Hemisphere - Cloudiness (%) vs. Latitude Linear Regression"
   ]
  },
  {
   "cell_type": "code",
   "execution_count": 68,
   "metadata": {},
   "outputs": [
    {
     "name": "stdout",
     "output_type": "stream",
     "text": [
      "The r-value is: -1.0\n"
     ]
    },
    {
     "data": {
      "image/png": "[encoded data removed]",
      "text/plain": [
       "<Figure size 432x288 with 1 Axes>"
      ]
     },
     "metadata": {
      "needs_background": "light"
     },
     "output_type": "display_data"
    }
   ],
   "source": [
    "# find the Cloudiness lists for Southern Hemisphere\n",
    "cloud_values = south_hemp['Cloudiness']\n",
    "\n",
    "# plot the scatter plot\n",
    "plt.scatter(lat_south_values, cloud_values, edgecolors='black', alpha=.7)\n",
    "plt.title(\"Southern Hemisphere - City Latitude vs. Cloudiness\")\n",
    "plt.xlabel(\"Latitude\")\n",
    "plt.ylabel(\"Cloudiness (%)\")\n",
    "\n",
    "# plot the linear regression line and find the r-vlaue\n",
    "linear_regression_plot(lat_south_values, cloud_values)\n",
    "plt.show()"
   ]
  },
  {
   "cell_type": "markdown",
   "metadata": {},
   "source": [
    "###  Northern Hemisphere - Wind Speed (mph) vs. Latitude Linear Regression"
   ]
  },
  {
   "cell_type": "code",
   "execution_count": 69,
   "metadata": {},
   "outputs": [
    {
     "name": "stdout",
     "output_type": "stream",
     "text": [
      "The r-value is: 0.28113641692045827\n"
     ]
    },
    {
     "data": {
      "image/png": "[encoded data removed]",
      "text/plain": [
       "<Figure size 432x288 with 1 Axes>"
      ]
     },
     "metadata": {
      "needs_background": "light"
     },
     "output_type": "display_data"
    }
   ],
   "source": [
    "# find the Wind Speed lists for Northern Hemisphere\n",
    "wind_speed_values = north_hemp['Wind Speed']\n",
    "\n",
    "# plot the scatter plot\n",
    "plt.scatter(lat_north_values, wind_speed_values, edgecolors='black', alpha=.7)\n",
    "plt.title(\"Northern Hemisphere - City Latitude vs. Wind Speed\")\n",
    "plt.xlabel(\"Latitude\")\n",
    "plt.ylabel(\"Wind Speed (mph)\")\n",
    "\n",
    "# plot the linear regression line and find the r-vlaue\n",
    "linear_regression_plot(lat_north_values, wind_speed_values)\n",
    "plt.show()"
   ]
  },
  {
   "cell_type": "markdown",
   "metadata": {},
   "source": [
    "###  Southern Hemisphere - Wind Speed (mph) vs. Latitude Linear Regression"
   ]
  },
  {
   "cell_type": "code",
   "execution_count": 70,
   "metadata": {},
   "outputs": [
    {
     "name": "stdout",
     "output_type": "stream",
     "text": [
      "The r-value is: 1.0\n"
     ]
    },
    {
     "data": {
      "image/png": "[encoded data removed]",
      "text/plain": [
       "<Figure size 432x288 with 1 Axes>"
      ]
     },
     "metadata": {
      "needs_background": "light"
     },
     "output_type": "display_data"
    }
   ],
   "source": [
    "# find the Wind Speed lists for Northern Hemisphere\n",
    "wind_speed_values = south_hemp['Wind Speed']\n",
    "\n",
    "# plot the scatter plot\n",
    "plt.scatter(lat_south_values, wind_speed_values, edgecolors='black', alpha=.7)\n",
    "plt.title(\"Southern Hemisphere - City Latitude vs. Wind Speed\")\n",
    "plt.xlabel(\"Latitude\")\n",
    "plt.ylabel(\"Wind Speed (mph)\")\n",
    "\n",
    "# plot the linear regression line and find the r-vlaue\n",
    "linear_regression_plot(lat_south_values, wind_speed_values)\n",
    "plt.show()"
   ]
  },
  {
   "cell_type": "code",
   "execution_count": null,
   "metadata": {},
   "outputs": [],
   "source": []
  }
 ],
 "metadata": {
  "anaconda-cloud": {},
  "kernel_info": {
   "name": "python3"
  },
  "kernelspec": {
   "display_name": "Python 3",
   "language": "python",
   "name": "python3"
  },
  "language_info": {
   "codemirror_mode": {
    "name": "ipython",
    "version": 3
   },
   "file_extension": ".py",
   "mimetype": "text/x-python",
   "name": "python",
   "nbconvert_exporter": "python",
   "pygments_lexer": "ipython3",
   "version": "3.6.10"
  },
  "latex_envs": {
   "LaTeX_envs_menu_present": true,
   "autoclose": false,
   "autocomplete": true,
   "bibliofile": "biblio.bib",
   "cite_by": "apalike",
   "current_citInitial": 1,
   "eqLabelWithNumbers": true,
   "eqNumInitial": 1,
   "hotkeys": {
    "equation": "Ctrl-E",
    "itemize": "Ctrl-I"
   },
   "labels_anchors": false,
   "latex_user_defs": false,
   "report_style_numbering": false,
   "user_envs_cfg": false
  },
  "nteract": {
   "version": "0.12.3"
  },
  "toc": {
   "base_numbering": 1,
   "nav_menu": {},
   "number_sections": true,
   "sideBar": true,
   "skip_h1_title": false,
   "title_cell": "Table of Contents",
   "title_sidebar": "Contents",
   "toc_cell": false,
   "toc_position": {},
   "toc_section_display": true,
   "toc_window_display": false
  },
  "varInspector": {
   "cols": {
    "lenName": 16,
    "lenType": 16,
    "lenVar": 40
   },
   "kernels_config": {
    "python": {
     "delete_cmd_postfix": "",
     "delete_cmd_prefix": "del ",
     "library": "var_list.py",
     "varRefreshCmd": "print(var_dic_list())"
    },
    "r": {
     "delete_cmd_postfix": ") ",
     "delete_cmd_prefix": "rm(",
     "library": "var_list.r",
     "varRefreshCmd": "cat(var_dic_list()) "
    }
   },
   "types_to_exclude": [
    "module",
    "function",
    "builtin_function_or_method",
    "instance",
    "_Feature"
   ],
   "window_display": false
  }
 },
 "nbformat": 4,
 "nbformat_minor": 2
}
